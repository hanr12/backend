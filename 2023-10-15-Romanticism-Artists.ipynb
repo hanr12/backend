{
 "cells": [
  {
   "cell_type": "markdown",
   "metadata": {},
   "source": [
    "# Francisco Goya\n",
    "\n",
    "### Brief Bio\n",
    "- Francisco Goya was born in Fuendetodos, Spain, and he began his artistic career as an apprentice to a local painter. He later moved to Madrid to study at the Royal Academy of Fine Arts, where he honed his skills as a painter and engraver.\n",
    "- Goya rose to prominence as a court painter, creating portraits of Spanish royalty, nobility, and other notable figures. His talent and versatility earned him the position of court painter to Charles III and, later, Charles IV.\n",
    "- In his later years, Goya's health deteriorated, and he became deaf, which had a significant impact on his work. He withdrew from court life and became more critical of the Spanish monarchy, producing works with satirical and critical themes.\n",
    "\n",
    "### Notable Works\n",
    "- The Third of May 1808\n",
    "- Saturn Devouring His Son\n",
    "- The Disasters of War\n",
    "- The Naked Maja\n",
    "\n",
    "### The Black Paintings\n",
    "- Francisco Goya's \"Dark Paintings\" (Spanish: \"Pinturas Negras\") is a series of 14 murals that he created on the walls of his house, known as the Quinta del Sordo, between 1819 and 1823. These paintings are notable for their dark and disturbing themes, and they are considered some of the most enigmatic and psychologically intense works in Goya's oeuvre. These paintings were created during the end of Goya's life at a time where hwas losing both his vision and hearing."
   ]
  },
  {
   "cell_type": "markdown",
   "metadata": {
    "vscode": {
     "languageId": "plaintext"
    }
   },
   "source": [
    "# William Blake\n",
    "\n",
    "- Blake was born on November 28, 1757, in London, England. He grew up in a working-class family and showed an early talent for drawing. His parents encouraged his artistic interests, and he attended art school briefly.\n",
    "- At the age of 14, Blake was apprenticed to an engraver, James Basire, where he learned the art of engraving and developed his skills as an artist and illustrator. This apprenticeship had a significant impact on his artistic style.\n",
    "- Despite facing financial difficulties and limited recognition during his lifetime, Blake continued to create prolifically. His visionary and unconventional style of art and poetry didn't gain widespread appreciation until the later 19th century and beyond. His work has had a profound impact on later artists and poets, and he is now considered one of the key figures of English Romanticism.\n",
    "\n",
    "### Notable Works\n",
    "- Songs of Innocence\n",
    "- Songs of Experience\n",
    "- The Major of Heaven and Hell\n",
    "- THe Book of Urizen\n",
    "\n",
    "### Social and Political Views\n",
    "- Blake was a passionate advocate for social justice and criticized the societal norms and injustices of his time. He was known for his opposition to slavery, poverty, and the dehumanizing effects of the Industrial Revolution."
   ]
  },
  {
   "cell_type": "markdown",
   "metadata": {},
   "source": [
    "# John Constable\n",
    "\n",
    "- Constable was born on June 11, 1776, in East Bergholt, Suffolk, England. He was the son of a prosperous miller and landowner. He showed an early aptitude for art and began sketching the landscape around his home from a young age.\n",
    "- In 1795, Constable entered the Royal Academy of Arts in London, where he received formal art training. He studied under the landscape painter John Thomas Smith and attended life drawing classes.\n",
    "- Constable continued to produce a significant body of work throughout his career, portraying the beauty of the English landscape. His paintings are known for their vibrant and realistic depiction of nature. He was a key figure in the development of Romantic landscape painting, and his work had a profound influence on subsequent generations of artists, including the Impressionists.\n",
    "\n",
    "### Notable Works\n",
    "- Hay Wain \n",
    "- Flatford Mill\n",
    "- The Leaping Horse\n",
    "\n",
    "### Influences\n",
    "- Constable was influenced by the Dutch landscape painters of the 17th century, such as Jacob van Ruisdael and Aelbert Cuyp, as well as the more contemporary landscape work of artists like Thomas Gainsborough and Richard Wilson. He developed a deep appreciation for the natural beauty of the English countryside, particularly the landscapes of Suffolk and the Dedham Vale."
   ]
  }
 ],
 "metadata": {
  "language_info": {
   "name": "python"
  }
 },
 "nbformat": 4,
 "nbformat_minor": 2
}
